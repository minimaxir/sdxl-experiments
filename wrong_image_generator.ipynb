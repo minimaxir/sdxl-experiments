{
 "cells": [
  {
   "cell_type": "code",
   "execution_count": null,
   "id": "dfe34f78",
   "metadata": {},
   "outputs": [],
   "source": [
    "!pip install -q transformers accelerate git+https://github.com/huggingface/diffusers compel"
   ]
  },
  {
   "cell_type": "code",
   "execution_count": null,
   "id": "2faf8218-42f9-4c16-a8f1-10e7091f992a",
   "metadata": {},
   "outputs": [],
   "source": [
    "from diffusers import DiffusionPipeline\n",
    "import torch\n",
    "from compel import Compel, ReturnedEmbeddingsType\n",
    "from diffusers import DiffusionPipeline, AutoencoderKL\n",
    "from PIL import Image\n",
    "from datetime import datetime\n",
    "import os\n",
    "\n",
    "vae = AutoencoderKL.from_pretrained(\"madebyollin/sdxl-vae-fp16-fix\", torch_dtype=torch.float16)\n",
    "base = DiffusionPipeline.from_pretrained(\n",
    "    \"stabilityai/stable-diffusion-xl-base-1.0\",\n",
    "    vae=vae, torch_dtype=torch.float16, variant=\"fp16\",\n",
    "    use_safetensors=True\n",
    ")\n",
    "\n",
    "_ = base.to(\"cuda\")\n",
    "\n",
    "refiner = DiffusionPipeline.from_pretrained(\n",
    "    \"stabilityai/stable-diffusion-xl-refiner-1.0\",\n",
    "    text_encoder_2=base.text_encoder_2,\n",
    "    vae=base.vae,\n",
    "    torch_dtype=torch.float16,\n",
    "    use_safetensors=True,\n",
    "    variant=\"fp16\",\n",
    ")\n",
    "\n",
    "_ = refiner.to(\"cuda\")\n",
    "\n",
    "compel_base = Compel(tokenizer=[base.tokenizer, base.tokenizer_2] , text_encoder=[base.text_encoder, base.text_encoder_2], returned_embeddings_type=ReturnedEmbeddingsType.PENULTIMATE_HIDDEN_STATES_NON_NORMALIZED, requires_pooled=[False, True])\n",
    "compel_refiner = Compel(tokenizer=refiner.tokenizer_2 , text_encoder=refiner.text_encoder_2, returned_embeddings_type=ReturnedEmbeddingsType.PENULTIMATE_HIDDEN_STATES_NON_NORMALIZED, requires_pooled=True)"
   ]
  },
  {
   "cell_type": "code",
   "execution_count": null,
   "id": "39ebc5f9",
   "metadata": {},
   "outputs": [],
   "source": [
    "prompt_keywords = [\n",
    "    \"low quality\",\n",
    "    \"bad hands\",\n",
    "    \"random text\",\n",
    "    \"error\",\n",
    "    \"missing or extra fingers\",\n",
    "    \"cropped\",\n",
    "    \"jpeg artifacts\",\n",
    "    \"signature\",\n",
    "    \"watermark\",\n",
    "    \"blurry\",\n",
    "    \"ugly\",\n",
    "    \"duplicate\",\n",
    "    \"mutilated\"\n",
    "]\n",
    "\n",
    "high_noise_frac = 0.8"
   ]
  },
  {
   "cell_type": "code",
   "execution_count": null,
   "id": "bea34b6d-aa0a-4c3c-a160-15d7e5e49797",
   "metadata": {},
   "outputs": [],
   "source": [
    "if not os.path.exists(\"wrong_images\"):\n",
    "    os.mkdir(\"wrong_images\")\n",
    "\n",
    "i = 0\n",
    "for keyword in prompt_keywords:\n",
    "    prompt = \", \".join(prompt_keywords)\n",
    "    prompt = prompt.replace(keyword, f\"({keyword})++++\")\n",
    "    print(prompt)\n",
    "\n",
    "    conditioning, pooled = compel_base(prompt)\n",
    "    conditioning_ref, pooled_ref = compel_refiner(prompt)\n",
    "\n",
    "    for cfg in [8, 9, 10, 11, 12, 13]:\n",
    "        latents = base(prompt_embeds=conditioning,\n",
    "            pooled_prompt_embeds=pooled,\n",
    "            guidance_scale=cfg,\n",
    "            denoising_end=high_noise_frac,\n",
    "            output_type=\"latent\")[\"images\"]\n",
    "\n",
    "        images = refiner(\n",
    "            prompt_embeds=conditioning_ref,\n",
    "            pooled_prompt_embeds=pooled_ref,\n",
    "            guidance_scale=cfg,\n",
    "            denoising_start=high_noise_frac,\n",
    "            image=latents,\n",
    "            ).images\n",
    "\n",
    "        for image in images:\n",
    "            image.save(os.path.join(\"wrong_images\", f\"{i:03d}.png\"))\n",
    "            i += 1\n",
    "        "
   ]
  },
  {
   "cell_type": "markdown",
   "id": "7ac3a7c1",
   "metadata": {},
   "source": [
    "## MIT License\n",
    "\n",
    "Copyright (c) 2023 Max Woolf\n",
    "\n",
    "Permission is hereby granted, free of charge, to any person obtaining a copy\n",
    "of this software and associated documentation files (the \"Software\"), to deal\n",
    "in the Software without restriction, including without limitation the rights\n",
    "to use, copy, modify, merge, publish, distribute, sublicense, and/or sell\n",
    "copies of the Software, and to permit persons to whom the Software is\n",
    "furnished to do so, subject to the following conditions:\n",
    "\n",
    "The above copyright notice and this permission notice shall be included in all\n",
    "copies or substantial portions of the Software.\n",
    "\n",
    "THE SOFTWARE IS PROVIDED \"AS IS\", WITHOUT WARRANTY OF ANY KIND, EXPRESS OR\n",
    "IMPLIED, INCLUDING BUT NOT LIMITED TO THE WARRANTIES OF MERCHANTABILITY,\n",
    "FITNESS FOR A PARTICULAR PURPOSE AND NONINFRINGEMENT. IN NO EVENT SHALL THE\n",
    "AUTHORS OR COPYRIGHT HOLDERS BE LIABLE FOR ANY CLAIM, DAMAGES OR OTHER\n",
    "LIABILITY, WHETHER IN AN ACTION OF CONTRACT, TORT OR OTHERWISE, ARISING FROM,\n",
    "OUT OF OR IN CONNECTION WITH THE SOFTWARE OR THE USE OR OTHER DEALINGS IN THE\n",
    "SOFTWARE."
   ]
  }
 ],
 "metadata": {
  "environment": {
   "kernel": "python3",
   "name": "pytorch-gpu.2-0.m110",
   "type": "gcloud",
   "uri": "gcr.io/deeplearning-platform-release/pytorch-gpu.2-0:m110"
  },
  "kernelspec": {
   "display_name": "Python 3",
   "language": "python",
   "name": "python3"
  },
  "language_info": {
   "codemirror_mode": {
    "name": "ipython",
    "version": 3
   },
   "file_extension": ".py",
   "mimetype": "text/x-python",
   "name": "python",
   "nbconvert_exporter": "python",
   "pygments_lexer": "ipython3",
   "version": "3.10.12"
  }
 },
 "nbformat": 4,
 "nbformat_minor": 5
}
